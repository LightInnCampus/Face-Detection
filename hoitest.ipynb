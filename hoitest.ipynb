{
 "cells": [
  {
   "cell_type": "code",
   "execution_count": 5,
   "metadata": {},
   "outputs": [
    {
     "name": "stdout",
     "output_type": "stream",
     "text": [
      "[(297, 810, 759, 348)]\n",
      "0.3816032409667969\n",
      "0.25161147117614746\n"
     ]
    }
   ],
   "source": [
    "\n",
    "import face_recognition\n",
    "import time\n",
    "import cv2\n",
    "img = face_recognition.api.load_image_file('Database\\Chinh.jpg')\n",
    "# img = cv2.cvtColor(img, cv2.COLOR_BGR2RGB)\n",
    "start=time.time()\n",
    "facesCurFrame = face_recognition.api.face_locations(img)\n",
    "end=time.time()\n",
    "encodesCurFrame = face_recognition.api.face_encodings(img,facesCurFrame)\n",
    "end2=time.time()\n",
    "print(facesCurFrame)\n",
    "print(end-start)\n",
    "print(end2-end)\n",
    "for box in facesCurFrame:\n",
    "\t# extract\n",
    "\ty1,x2,y2,x1 = box\n",
    "\t# y1, x2, y2, x1 = y1*4,x2*4,y2*4,x1*4\n",
    "\t# draw a rectangle over the pixels\n",
    "\tcv2.rectangle(img, (x1, y1), (x2, y2), (0,0,255), 1)\n",
    "# show the image\n",
    "cv2.imshow('face detection', img)\n",
    "# keep the window open until we press a key\n",
    "cv2.waitKey(0)\n",
    "# close the window\n",
    "cv2.destroyAllWindows()\n"
   ]
  },
  {
   "cell_type": "code",
   "execution_count": 7,
   "metadata": {},
   "outputs": [
    {
     "name": "stdout",
     "output_type": "stream",
     "text": [
      "[[322 182 519 519]]\n",
      "0.04052329063415527\n",
      "0.25077271461486816\n"
     ]
    }
   ],
   "source": [
    "import face_recognition\n",
    "import time\n",
    "from cv2 import CascadeClassifier\n",
    "classifier = CascadeClassifier('Models\\haarcascade_frontalface_default.xml')\n",
    "img = face_recognition.api.load_image_file('Database\\Chinh.jpg')\n",
    "img = cv2.cvtColor(img, cv2.COLOR_BGR2RGB)\n",
    "start=time.time()\n",
    "facesCurFrame = classifier.detectMultiScale(img,1.2,2)\n",
    "end=time.time()\n",
    "encodesCurFrame = face_recognition.api.face_encodings(img,facesCurFrame)\n",
    "end2=time.time()\n",
    "for box in facesCurFrame:\n",
    "\t# extract\n",
    "\tx, y, width, height = box\n",
    "\tx2, y2 = x + width, y + height\n",
    "\t\n",
    "\t# draw a rectangle over the pixels\n",
    "\tcv2.rectangle(img, (x, y), (x2, y2), (0,0,255), 1)\n",
    "# show the image\n",
    "cv2.imshow('face detection', img)\n",
    "# keep the window open until we press a key\n",
    "cv2.waitKey(0)\n",
    "# close the window\n",
    "cv2.destroyAllWindows()\n",
    "print(facesCurFrame)\n",
    "print(end-start)\n",
    "print(end2-end)"
   ]
  },
  {
   "cell_type": "code",
   "execution_count": 20,
   "metadata": {},
   "outputs": [],
   "source": [
    "import face_recognition\n",
    "import time\n",
    "from cv2 import CascadeClassifier\n",
    "classifier = CascadeClassifier('Models\\haarcascade_frontalface_default.xml')\n",
    "img = face_recognition.api.load_image_file('Database\\Chinh.jpg')\n",
    "img = cv2.cvtColor(img, cv2.COLOR_BGR2RGB)\n",
    "start=time.time()\n",
    "facesCurFrame = classifier.detectMultiScale(img,1.2,2)\n",
    "end=time.time()\n",
    "facesCurFrame_new=[]\n",
    "for box in facesCurFrame:\n",
    "\t# extract\n",
    "\tbox[0],box[1],box[2],box[3] = box[1],box[0]+box[2],box[1]+box[3],box[0]\n",
    "\ty1,x2,y2,x1 = box\n",
    "\t# y1, x2, y2, x1 = y1*4,x2*4,y2*4,x1*4\n",
    "\t# draw a rectangle over the pixels\n",
    "\tcv2.rectangle(img, (x1, y1), (x2, y2), (0,0,255), 1)\n",
    "\tfacesCurFrame_new.append(box)\n",
    "\n",
    "encodesCurFrame = face_recognition.api.face_encodings(img,facesCurFrame_new)\n",
    "end2=time.time()\n",
    "# show the image\n",
    "cv2.imshow('face detection', img)\n",
    "# keep the window open until we press a key\n",
    "cv2.waitKey(0)\n",
    "# close the window\n",
    "cv2.destroyAllWindows()\n",
    "print(facesCurFrame)\n",
    "print(end-start)\n",
    "print(end2-end)"
   ]
  },
  {
   "cell_type": "code",
   "execution_count": 8,
   "metadata": {},
   "outputs": [],
   "source": [
    "a= [322,182,519,519]"
   ]
  },
  {
   "cell_type": "code",
   "execution_count": 9,
   "metadata": {},
   "outputs": [],
   "source": [
    "a[0],a[1],a[2],a[3] = a[1],a[0]+a[2],a[1]+a[3],a[0]"
   ]
  },
  {
   "cell_type": "code",
   "execution_count": 10,
   "metadata": {},
   "outputs": [
    {
     "data": {
      "text/plain": [
       "[182, 841, 701, 322]"
      ]
     },
     "execution_count": 10,
     "metadata": {},
     "output_type": "execute_result"
    }
   ],
   "source": [
    "a"
   ]
  }
 ],
 "metadata": {
  "interpreter": {
   "hash": "4da2533b2eec2c40657fa4db36e2876b31ca8338e9e2d66b61a50c40034f3dd8"
  },
  "kernelspec": {
   "display_name": "Python 3.9.7 ('cs_ftmle')",
   "language": "python",
   "name": "python3"
  },
  "language_info": {
   "codemirror_mode": {
    "name": "ipython",
    "version": 3
   },
   "file_extension": ".py",
   "mimetype": "text/x-python",
   "name": "python",
   "nbconvert_exporter": "python",
   "pygments_lexer": "ipython3",
   "version": "3.9.7"
  },
  "orig_nbformat": 4
 },
 "nbformat": 4,
 "nbformat_minor": 2
}
