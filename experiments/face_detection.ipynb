{
 "cells": [
  {
   "cell_type": "code",
   "execution_count": 6,
   "metadata": {},
   "outputs": [],
   "source": [
    "how = input('How many faces do you want to detect? ')\n",
    "how = int(how)\n",
    "if how == 1: \n",
    "    img_path = 'Database\\Chinh.jpg'\n",
    "else:\n",
    "    img_path = 'Images/test2.jpg'"
   ]
  },
  {
   "cell_type": "code",
   "execution_count": 7,
   "metadata": {},
   "outputs": [
    {
     "name": "stdout",
     "output_type": "stream",
     "text": [
      "Time taken for face detection: 0.0661320686340332\n"
     ]
    }
   ],
   "source": [
    "import cv2\n",
    "import time\n",
    "classifier = cv2.CascadeClassifier('Models\\haarcascade_frontalface_default.xml')\n",
    "img = cv2.imread(img_path)\n",
    "start = time.time()\n",
    "faces = classifier.detectMultiScale(img)# result\n",
    "end1= time.time()\n",
    "#to draw faces on image\n",
    "for result in faces:\n",
    "    x, y, w, h = result\n",
    "    x1, y1 = x + w, y + h\n",
    "    cv2.rectangle(img, (x, y), (x1, y1), (0, 0, 255), 2)\n",
    "cv2.imshow('face detection', img)\n",
    "# keep the window open until we press a key\n",
    "cv2.waitKey(0)\n",
    "# close the window\n",
    "cv2.destroyAllWindows()\n",
    "print(\"Time taken for face detection:\",end1-start)"
   ]
  },
  {
   "cell_type": "code",
   "execution_count": 8,
   "metadata": {},
   "outputs": [
    {
     "name": "stdout",
     "output_type": "stream",
     "text": [
      "Time taken for face detection: 0.10598421096801758\n"
     ]
    }
   ],
   "source": [
    "import dlib\n",
    "import cv2\n",
    "detector = dlib.get_frontal_face_detector()\n",
    "img = cv2.imread(img_path)\n",
    "gray = cv2.cvtColor(img, cv2.COLOR_BGR2GRAY)\n",
    "start = time.time()\n",
    "faces = detector(gray, 1) # result\n",
    "end1= time.time()\n",
    "#to draw faces on image\n",
    "for result in faces:\n",
    "    x = result.left()\n",
    "    y = result.top()\n",
    "    x1 = result.right()\n",
    "    y1 = result.bottom()\n",
    "    cv2.rectangle(img, (x, y), (x1, y1), (0, 0, 255), 2)\n",
    "cv2.imshow('face detection', img)\n",
    "# keep the window open until we press a key\n",
    "cv2.waitKey(0)\n",
    "# close the window\n",
    "cv2.destroyAllWindows()\n",
    "print(\"Time taken for face detection:\",end1-start)\n"
   ]
  },
  {
   "cell_type": "code",
   "execution_count": 9,
   "metadata": {},
   "outputs": [
    {
     "name": "stdout",
     "output_type": "stream",
     "text": [
      "WARNING:tensorflow:5 out of the last 15 calls to <function Model.make_predict_function.<locals>.predict_function at 0x000002459FC03B80> triggered tf.function retracing. Tracing is expensive and the excessive number of tracings could be due to (1) creating @tf.function repeatedly in a loop, (2) passing tensors with different shapes, (3) passing Python objects instead of tensors. For (1), please define your @tf.function outside of the loop. For (2), @tf.function has experimental_relax_shapes=True option that relaxes argument shapes that can avoid unnecessary retracing. For (3), please refer to https://www.tensorflow.org/guide/function#controlling_retracing and https://www.tensorflow.org/api_docs/python/tf/function for  more details.\n",
      "WARNING:tensorflow:6 out of the last 16 calls to <function Model.make_predict_function.<locals>.predict_function at 0x000002459FC03B80> triggered tf.function retracing. Tracing is expensive and the excessive number of tracings could be due to (1) creating @tf.function repeatedly in a loop, (2) passing tensors with different shapes, (3) passing Python objects instead of tensors. For (1), please define your @tf.function outside of the loop. For (2), @tf.function has experimental_relax_shapes=True option that relaxes argument shapes that can avoid unnecessary retracing. For (3), please refer to https://www.tensorflow.org/guide/function#controlling_retracing and https://www.tensorflow.org/api_docs/python/tf/function for  more details.\n",
      "Time taken for face detection: 1.9678573608398438\n"
     ]
    }
   ],
   "source": [
    "import cv2\n",
    "from mtcnn.mtcnn import MTCNN\n",
    "detector = MTCNN()\n",
    "img = cv2.imread(img_path)\n",
    "start = time.time()\n",
    "faces = detector.detect_faces(img)# result\n",
    "end1= time.time()\n",
    "#to draw faces on image\n",
    "for result in faces:\n",
    "    x, y, w, h = result['box']\n",
    "    x1, y1 = x + w, y + h\n",
    "    cv2.rectangle(img, (x, y), (x1, y1), (0, 0, 255), 2)\n",
    "cv2.imshow('face detection', img)\n",
    "# keep the window open until we press a key\n",
    "cv2.waitKey(0)\n",
    "# close the window\n",
    "cv2.destroyAllWindows()\n",
    "print(\"Time taken for face detection:\",end1-start)"
   ]
  },
  {
   "cell_type": "code",
   "execution_count": 10,
   "metadata": {},
   "outputs": [
    {
     "name": "stdout",
     "output_type": "stream",
     "text": [
      "Nose tip:\n",
      "x: 0.60207105\n",
      "y: 0.3662217\n",
      "\n",
      "Nose tip:\n",
      "x: 0.6922946\n",
      "y: 0.13535896\n",
      "\n",
      "Nose tip:\n",
      "x: 0.43860063\n",
      "y: 0.33591202\n",
      "\n",
      "Nose tip:\n",
      "x: 0.54067266\n",
      "y: 0.085573226\n",
      "\n",
      "Time taken for face detection: 0.06697654724121094\n"
     ]
    }
   ],
   "source": [
    "import cv2\n",
    "import mediapipe as mp\n",
    "mp_face_detection = mp.solutions.face_detection\n",
    "mp_drawing = mp.solutions.drawing_utils\n",
    "\n",
    "# For static images:\n",
    "IMAGE_FILES = [img_path]\n",
    "start=time.time()\n",
    "with mp_face_detection.FaceDetection(\n",
    "    model_selection=1, min_detection_confidence=0.5) as face_detection:\n",
    "  for idx, file in enumerate(IMAGE_FILES):\n",
    "    image = cv2.imread(file)\n",
    "    # Convert the BGR image to RGB and process it with MediaPipe Face Detection.\n",
    "    results = face_detection.process(cv2.cvtColor(image, cv2.COLOR_BGR2RGB))\n",
    "\n",
    "    # Draw face detections of each face.\n",
    "    if not results.detections:\n",
    "      continue\n",
    "    annotated_image = image.copy()\n",
    "    for detection in results.detections:\n",
    "      print('Nose tip:')\n",
    "      print(mp_face_detection.get_key_point(\n",
    "          detection, mp_face_detection.FaceKeyPoint.NOSE_TIP))\n",
    "      mp_drawing.draw_detection(annotated_image, detection)\n",
    "end1=time.time()\n",
    "print(\"Time taken for face detection:\",end1-start)\n",
    "cv2.imshow('face detection', annotated_image)\n",
    "cv2.waitKey(0)\n",
    "cv2.destroyAllWindows()"
   ]
  }
 ],
 "metadata": {
  "interpreter": {
   "hash": "4da2533b2eec2c40657fa4db36e2876b31ca8338e9e2d66b61a50c40034f3dd8"
  },
  "kernelspec": {
   "display_name": "Python 3.9.7 ('cs_ftmle')",
   "language": "python",
   "name": "python3"
  },
  "language_info": {
   "codemirror_mode": {
    "name": "ipython",
    "version": 3
   },
   "file_extension": ".py",
   "mimetype": "text/x-python",
   "name": "python",
   "nbconvert_exporter": "python",
   "pygments_lexer": "ipython3",
   "version": "3.9.7"
  },
  "orig_nbformat": 4
 },
 "nbformat": 4,
 "nbformat_minor": 2
}
